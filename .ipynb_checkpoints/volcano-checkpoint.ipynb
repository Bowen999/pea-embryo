{
 "cells": [
  {
   "cell_type": "code",
   "execution_count": 35,
   "id": "fd23d892",
   "metadata": {},
   "outputs": [
    {
     "name": "stdout",
     "output_type": "stream",
     "text": [
      "Upregulated        9\n",
      "Non-significant    9\n",
      "Downregulated      2\n",
      "Name: color_add_axy, dtype: int64\n"
     ]
    }
   ],
   "source": [
    "import pandas as pd\n",
    "import numpy as np\n",
    "from bioinfokit import analys, visuz\n",
    "import matplotlib.pyplot as plt\n",
    "\n",
    "def plot_volcano(df, lfc_threshold, padj_threshold):\n",
    "    \"\"\"\n",
    "    df: pandas DataFrame containing the data\n",
    "    lfc_threshold: the log2 fold change threshold\n",
    "    padj_threshold: the adjusted p-value threshold\n",
    "    \"\"\"\n",
    "    # Ensure the data contains no missing P-Values\n",
    "    df = df.dropna(subset=['P_Value'])\n",
    "    \n",
    "    # Apply log2 transformation to the Fold Change\n",
    "    df['log2_FC'] = df['Fold_Change'].apply(lambda x: np.log2(x) if x > 0 else None)\n",
    "    \n",
    "    # Check for valid log2_FC values\n",
    "    df = df.dropna(subset=['log2_FC'])\n",
    "    \n",
    "    # Categorize the data into upregulated, downregulated, and non-significant\n",
    "    df['color_add_axy'] = 'Non-significant'\n",
    "    df.loc[(df['log2_FC'] >= lfc_threshold) & (df['P_Value'] <= padj_threshold), 'color_add_axy'] = 'Upregulated'\n",
    "    df.loc[(df['log2_FC'] <= -lfc_threshold) & (df['P_Value'] <= padj_threshold), 'color_add_axy'] = 'Downregulated'\n",
    "    \n",
    "    # Ensure all three categories (Upregulated, Downregulated, Non-significant) exist\n",
    "    df['color_add_axy'] = pd.Categorical(df['color_add_axy'], categories=['Upregulated', 'Downregulated', 'Non-significant'])\n",
    "    \n",
    "    # Print counts of each category\n",
    "    print(df['color_add_axy'].value_counts())\n",
    "    \n",
    "    # Create the volcano plot using the visuz package\n",
    "    plt.rcParams['figure.figsize'] = [6, 6]\n",
    "    visuz.GeneExpression.volcano(df=df, \n",
    "                                lfc='log2_FC', \n",
    "                                pv='P_Value', \n",
    "                                sign_line=True,\n",
    "                                lfc_thr=(lfc_threshold, lfc_threshold), \n",
    "                                pv_thr=(padj_threshold, padj_threshold),\n",
    "                                plotlegend=True, \n",
    "                                legendpos='upper right', \n",
    "                                legendanchor=(1.46,1),\n",
    "                                color=('maroon','gainsboro','steelblue'), \n",
    "                                theme='whitesmoke',\n",
    "                                valpha=1, \n",
    "                                dotsize=5,\n",
    "                                geneid='Compound'\n",
    "                                )\n",
    "    plt.show()"
   ]
  },
  {
   "cell_type": "code",
   "execution_count": 36,
   "id": "3b42201c",
   "metadata": {},
   "outputs": [
    {
     "name": "stdout",
     "output_type": "stream",
     "text": [
      "Upregulated        9\n",
      "Non-significant    9\n",
      "Downregulated      2\n",
      "Name: color_add_axy, dtype: int64\n"
     ]
    }
   ],
   "source": [
    "plot_volcano(df, lfc_threshold, padj_threshold)"
   ]
  }
 ],
 "metadata": {
  "kernelspec": {
   "display_name": "Python 3 (ipykernel)",
   "language": "python",
   "name": "python3"
  },
  "language_info": {
   "codemirror_mode": {
    "name": "ipython",
    "version": 3
   },
   "file_extension": ".py",
   "mimetype": "text/x-python",
   "name": "python",
   "nbconvert_exporter": "python",
   "pygments_lexer": "ipython3",
   "version": "3.9.7"
  }
 },
 "nbformat": 4,
 "nbformat_minor": 5
}
